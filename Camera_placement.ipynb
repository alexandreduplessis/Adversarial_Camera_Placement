{
  "cells": [
    {
      "cell_type": "code",
      "execution_count": 2,
      "metadata": {
        "id": "jZDCZ28MPeWP"
      },
      "outputs": [],
      "source": [
        "import numpy as np\n",
        "import matplotlib.pyplot as plt\n",
        "from scipy.optimize import minimize, rosen, rosen_der\n",
        "import time\n",
        "from tqdm import tqdm"
      ]
    },
    {
      "cell_type": "code",
      "execution_count": 3,
      "metadata": {
        "id": "cTnxA3Y8QuYR"
      },
      "outputs": [],
      "source": [
        "def np_belongs(x, L):\n",
        "    for i in range(len(L)):\n",
        "        if np.array_equal(x, L[i]):\n",
        "            return True\n",
        "    return False\n",
        "\n",
        "def cost_path(path):\n",
        "    # sum of the distances between consecutive points\n",
        "    cost = 0\n",
        "    for i in range(len(path)-1):\n",
        "        cost += np.linalg.norm(path[i] - path[i+1])\n",
        "    return cost\n",
        "\n",
        "def grid_to_real_coordinates(x, N, L):\n",
        "    # convert coordinates from 0 to N-1 to coordinates from -L to L\n",
        "    return 2 * L * x / (N - 1) - L\n",
        "\n",
        "def grid_to_real_length(c, N, L):\n",
        "    # convert length from 0 to N-1 to length from -L to L\n",
        "    return 2 * L * c / (N - 1)\n",
        "\n",
        "def rectangle_points(obstacle):\n",
        "    # returns the list of points of the square obstacle\n",
        "    # obstacle is (x1, y1, c1, c2) where (x1, y1) is the lower left corner of the square and c1 is the side length and c2 is the length of the other side\n",
        "    obstacle_points = []\n",
        "    for i in range(obstacle[2]):\n",
        "        for j in range(obstacle[3]):\n",
        "            obstacle_points.append((obstacle[0] + i, obstacle[1] + j))\n",
        "    return obstacle_points\n",
        "\n",
        "def obstacles_list_to_points(obstacle_list):\n",
        "    # from list of obstacles, returns the list of points of the obstacles\n",
        "    obstacle_list_points = []\n",
        "    for obstacle in obstacle_list:\n",
        "        obstacle_list_points += rectangle_points(obstacle)\n",
        "    return obstacle_list_points\n",
        "\n",
        "def belongs_to_rectangle(obstacle, point):\n",
        "    # obstacle is (x1, y1, c1, c2) where (x1, y1) is the lower left corner of the square and c1 is the side length and c2 is the length of the other side\n",
        "    # point is (x, y)\n",
        "    # returns True if point is in the square\n",
        "    # returns False otherwise\n",
        "    if obstacle[0] <= point[0] and point[0] < obstacle[0] + obstacle[2] and obstacle[1] <= point[1] and point[1] < obstacle[1] + obstacle[3]:\n",
        "        return True\n",
        "    return False\n",
        "\n",
        "def segment_intersects_segment(point_1, point_2, point_3, point_4):\n",
        "    # Returns True if the segment [point_1, point_2] intersects the segment [point_3, point_4]\n",
        "    # Returns False otherwise\n",
        "    denominator = (point_4[1] - point_3[1]) * (point_2[0] - point_1[0]) - (point_4[0] - point_3[0]) * (point_2[1] - point_1[1])\n",
        "    if denominator == 0:\n",
        "        return False\n",
        "    ua = ((point_4[0] - point_3[0]) * (point_1[1] - point_3[1]) - (point_4[1] - point_3[1]) * (point_1[0] - point_3[0])) / denominator\n",
        "    ub = ((point_2[0] - point_1[0]) * (point_1[1] - point_3[1]) - (point_2[1] - point_1[1]) * (point_1[0] - point_3[0])) / denominator\n",
        "    if 0 <= ua <= 1 and 0 <= ub <= 1:\n",
        "        return True\n",
        "    return False\n",
        "\n",
        "\n",
        "def segment_intersects_square(point_1, point_2, rectangle):\n",
        "    # Returns True if the segment [point_1, point_2] intersects the square\n",
        "    # Returns False otherwise\n",
        "    # square is a list of 4 points\n",
        "    # square[0] is the lower left corner\n",
        "    # square[1] is the lower right corner\n",
        "    # square[2] is the upper right corner\n",
        "    # square[3] is the upper left corner\n",
        "    # square[0] = square[4]\n",
        "    for i in range(4):\n",
        "        if segment_intersects_segment(point_1, point_2, rectangle[i], rectangle[i+1]):\n",
        "            return True\n",
        "    return False\n",
        "\n",
        "def compute_camera_visible_points(cam, obstacles_list, N):\n",
        "    # returns a list of points visible from the camera when obstacles are squares\n",
        "    visible_points = []\n",
        "    # for each point in the grid\n",
        "    for i in range(N):\n",
        "        for j in range(N):\n",
        "            point = np.array([i, j])\n",
        "            # if the point is in the camera scope where the camera is defined by (pos, theta, angle)\n",
        "            if (i != cam[0][0] or j != cam[0][1]) and np.dot((np.array([i, j]) - cam[0])/np.linalg.norm(np.array([i, j]) - cam[0]), np.array([np.cos(cam[1]), np.sin(cam[1])])) > np.cos(cam[2]/2):\n",
        "                # check if the point is visible from the camera\n",
        "                visible = True\n",
        "                for obstacle in obstacles_list:\n",
        "                    # obstacle is (x1, y1, c1, c2) where (x1, y1) is the lower left corner of the square and c1 is the side length and c2 is the length of the other side\n",
        "                    rectangle = np.array([[obstacle[0], obstacle[1]], [obstacle[0] + obstacle[2] - 1, obstacle[1]], [obstacle[0] + obstacle[2] - 1, obstacle[1] + obstacle[3] - 1], [obstacle[0], obstacle[1] + obstacle[3] - 1], [obstacle[0], obstacle[1]]])\n",
        "                    if segment_intersects_square(cam[0], point, rectangle):\n",
        "                        visible = False\n",
        "                        break\n",
        "                if visible:\n",
        "                    visible_points.append(point)\n",
        "    # add a square of size N//5 around the camera\n",
        "    # cam_size = N//5 + 1\n",
        "    # for i in range(cam_size):\n",
        "    #     for j in range(cam_size):\n",
        "    #         # if well in the grid\n",
        "    #         if cam[0][0] - cam_size//2 + i >= 0 and cam[0][0] - cam_size//2 + i < N and cam[0][1] - cam_size//2 + j >= 0 and cam[0][1] - cam_size//2 + j < N and not np_belongs(np.array([cam[0][0] - cam_size//2 + i, cam[0][1] - cam_size//2 + j]), visible_points):\n",
        "    #             visible_points.append(np.array([cam[0][0] - cam_size//2 + i, cam[0][1] - cam_size//2 + j]))\n",
        "    return visible_points\n",
        "\n",
        "\n",
        "# NF(x) is the set of segments [xj, xk] where [xj, xk] is in AF, and there exists x' on [xj, xk] such that x' is at distance at most nfconstant from x\n",
        "def compute_NF(x, AF):\n",
        "    nfconstant = 1.5\n",
        "    NF = []\n",
        "    for i in range(len(AF)):\n",
        "        # calculate the distance between x and the segment AF[i]\n",
        "        # if the distance is smaller than nfconstant, add AF[i] to NF\n",
        "        if np.linalg.norm(x - AF[i][0]) <= nfconstant or np.linalg.norm(x - AF[i][1]) <= nfconstant:\n",
        "            # if both points are different and different from x\n",
        "            if not np.array_equal(AF[i][0], AF[i][1]) and not np.array_equal(AF[i][0], x) and not np.array_equal(AF[i][1], x):\n",
        "                # print(AF[i].shape)\n",
        "                NF.append(AF[i])\n",
        "    return NF\n",
        "\n",
        "def exists_considered(M):\n",
        "    N = M.shape[0]\n",
        "    for i in range(N):\n",
        "        for j in range(N):\n",
        "            if M[i, j] == 1:\n",
        "                return True, np.array([i,j])\n",
        "    return False, 0\n",
        "\n",
        "def compute_AcceptedFront(M, o):\n",
        "    N = M.shape[0]\n",
        "    AcceptedFront = []\n",
        "    # fill AcceptedFront\n",
        "    for i in range(N):\n",
        "        for j in range(N):\n",
        "            # [i, j] is not in o and [i, j] is accepted\n",
        "            if M[i, j] == 0 and not np_belongs([i, j], o):\n",
        "                for k in range(-1, 2):\n",
        "                    for l in range(-1, 2):\n",
        "                        # if not in o\n",
        "                        if i+k >= 0 and i+k < N and j+l >= 0 and j+l < N and not np_belongs([i+k, j+l], o):\n",
        "                            if M[i+k, j+l] == 1:\n",
        "                                # if already in AcceptedFront\n",
        "                                if not np_belongs(np.array([i, j]), AcceptedFront):\n",
        "                                    AcceptedFront.append(np.array([i, j]))\n",
        "                                break\n",
        "    return AcceptedFront\n",
        "\n",
        "def compute_AF(M, AcceptedFront):\n",
        "    N = M.shape[0]\n",
        "    # initialize empty list\n",
        "    AF = []\n",
        "    # fill AF\n",
        "    for i in range(len(AcceptedFront)):\n",
        "        # print(\"point try\", AcceptedFront[i])\n",
        "        for k in range(-1, 2):\n",
        "            for l in range(-1, 2):\n",
        "                if (k != 0 or l != 0) and AcceptedFront[i][0]+k >= 0 and AcceptedFront[i][0]+k < N and AcceptedFront[i][1]+l >= 0 and AcceptedFront[i][1]+l < N:\n",
        "                    # if the point is in AcceptedFront\n",
        "                    # print(\"try\", [AcceptedFront[i][0]+k, AcceptedFront[i][1]+l])\n",
        "                    if np_belongs([AcceptedFront[i][0]+k, AcceptedFront[i][1]+l], AcceptedFront):\n",
        "                        # if both points are adjacent to a considered point\n",
        "                        has_considered_neighbor = False\n",
        "                        for m in range(-1, 2):\n",
        "                            for n in range(-1, 2):\n",
        "                                if AcceptedFront[i][0]+k+m >= 0 and AcceptedFront[i][0]+k+m < N and AcceptedFront[i][1]+l+n >= 0 and AcceptedFront[i][1]+l+n < N:\n",
        "                                    if M[AcceptedFront[i][0]+k+m, AcceptedFront[i][1]+l+n] == 1:\n",
        "                                        has_considered_neighbor = True\n",
        "                                        break\n",
        "                            if has_considered_neighbor:\n",
        "                                break\n",
        "                        has_considered_neighbor2 = False\n",
        "                        # same for AcceptedFront[i]\n",
        "                        for m in range(-1, 2):\n",
        "                            for n in range(-1, 2):\n",
        "                                if AcceptedFront[i][0]+m >= 0 and AcceptedFront[i][0]+m < N and AcceptedFront[i][1]+n >= 0 and AcceptedFront[i][1]+n < N:\n",
        "                                    if M[AcceptedFront[i][0]+m, AcceptedFront[i][1]+n] == 1:\n",
        "                                        has_considered_neighbor2 = True\n",
        "                                        break\n",
        "                            if has_considered_neighbor2:\n",
        "                                break\n",
        "                        if has_considered_neighbor and has_considered_neighbor2:\n",
        "                            # if already in AF\n",
        "                            if not np_belongs([AcceptedFront[i], np.array([AcceptedFront[i][0]+k, AcceptedFront[i][1]+l])], AF):\n",
        "                                AF.append([AcceptedFront[i], np.array([AcceptedFront[i][0]+k, AcceptedFront[i][1]+l])])\n",
        "    return AF\n",
        "\n",
        "def compute_U(x, xj, xk, uj, uk, f, history):\n",
        "    # check if [x, xj, xk, uj, uk] is in history\n",
        "    if str([x, xj, xk, uj, uk]) in history:\n",
        "        return history[str([x, xj, xk, uj, uk])], history\n",
        "    # if the points x, xj, xk are on a same line\n",
        "    \n",
        "    bnds = ((0, 1),)\n",
        "    minig = lambda theta: f(x, (theta*xj + (1-theta)*xk - x)/np.linalg.norm(theta*xj + (1-theta)*xk - x))\n",
        "    g = lambda theta: np.linalg.norm(theta*xj + (1-theta)*xk - x)/f(x, (theta*xj + (1-theta)*xk - x)/np.linalg.norm(theta*xj + (1-theta)*xk - x)) + theta*uj + (1-theta)*uk\n",
        "    if np.linalg.norm(np.cross(xj-x, xk-x)) == 0:\n",
        "        # choose the closest point to x between xj and xk\n",
        "        if np.linalg.norm(xj-x) < np.linalg.norm(xk-x):\n",
        "            res = np.linalg.norm(xj-x)/f(x, (xj-x)/np.linalg.norm(xj-x)) + uj\n",
        "        else:\n",
        "            res = np.linalg.norm(xk-x)/f(x, (xk-x)/np.linalg.norm(xk-x)) + uk\n",
        "        history[str([x, xj, xk, uj, uk])] = res\n",
        "        return res, history\n",
        "    # if xj or xk is at distance more than 2**(1/2) from x\n",
        "    if np.linalg.norm(xj-x) > 2**(1/2) or np.linalg.norm(xk-x) > 2**(1/2):\n",
        "        # choose the closest point to x between xj and xk\n",
        "        if np.linalg.norm(xj-x) < np.linalg.norm(xk-x):\n",
        "            res = np.linalg.norm(xj-x)/f(x, (xj-x)/np.linalg.norm(xj-x)) + uj\n",
        "        else:\n",
        "            res = np.linalg.norm(xk-x)/f(x, (xk-x)/np.linalg.norm(xk-x)) + uk\n",
        "        history[str([x, xj, xk, uj, uk])] = res\n",
        "        return res, history\n",
        "    # x_test is 100 random points between 0 and 1\n",
        "    x_test = np.random.rand(100)\n",
        "    y_test = []\n",
        "    for i in range(len(x_test)):\n",
        "        g_val = g(x_test[i])\n",
        "        y_test.append(g_val)\n",
        "        # if minig is zero\n",
        "        if minig(x_test[i]) == 0.:\n",
        "            print(\"error with minig:\", x, xj, xk, x_test[i], minig(x_test[i]))\n",
        "    res = np.min(y_test)\n",
        "    # print(\"res: \", res)\n",
        "    theta_min = x_test[np.argmin(y_test)]\n",
        "    # redo a search around theta_min\n",
        "    new_x = np.linspace(theta_min-0.1, theta_min+0.1, 10)\n",
        "    # take only the ones between 0 and 1\n",
        "    new_x = new_x[new_x >= 0]\n",
        "    new_x = new_x[new_x <= 1]\n",
        "    new_y = []\n",
        "    for i in range(len(new_x)):\n",
        "        new_y.append(g(new_x[i]))\n",
        "    res = np.min(new_y)\n",
        "    theta_min = new_x[np.argmin(new_y)]\n",
        "    # print(\"min point\", theta_min*xj + (1-theta_min)*xk)\n",
        "    # print(\"u value\", res)\n",
        "    history[str([x, xj, xk, uj, uk])] = res\n",
        "    return res, history"
      ]
    },
    {
      "cell_type": "code",
      "execution_count": 4,
      "metadata": {
        "id": "DLZ-4hQbQlu9"
      },
      "outputs": [],
      "source": [
        "np.warnings.filterwarnings('ignore', category=np.VisibleDeprecationWarning)\n",
        "\n",
        "start_time = time.time()\n",
        "\n",
        "def main_U(N, x0, xf, camera_list, obstacle_list):\n",
        "    # nfconstant must be higher than the maximum distance between two points in the grid, so...\n",
        "    nfconstant = 1.5\n",
        "    o = obstacle_list\n",
        "    obstacle_points = obstacles_list_to_points(o)\n",
        "\n",
        "    # W = np.zeros((N, N, 2))\n",
        "    W = np.zeros((N, N))\n",
        "\n",
        "    ###############################\n",
        "    # Cameras setting\n",
        "    ###############################\n",
        "    camera_points = []\n",
        "    for cam in camera_list:\n",
        "        # compute visible points\n",
        "        visible_points = compute_camera_visible_points(cam, o, N)\n",
        "        for point in visible_points:\n",
        "            W[point[0], point[1]] += 1\n",
        "            camera_points.append(np.array(point))\n",
        "                    \n",
        "    # set W for cam\n",
        "    for cam in camera_list:\n",
        "        cam_x = cam[0][0]\n",
        "        cam_y = cam[0][1]\n",
        "        # W[cam_x, cam_y] = - 1. * cam/np.linalg.norm(cam)\n",
        "        W[cam_x, cam_y] += 1.\n",
        "      \n",
        "    # dist_max = N*2*(1/2)/2\n",
        "    # for i in range(N):\n",
        "    #    for j in range(N):\n",
        "    #       W[i, j] += 1 - (i**2 + j**2)**(1/2)/dist_max\n",
        "    \n",
        "    # f = lambda x, u: np.exp(W[int(x[0]), int(x[1])])\n",
        "    # f = lambda x, u: .01 * (len(camera_list) + 1. - W[int(x[0]), int(x[1])])\n",
        "    # f = lambda x, u: 1./(W[int(x[0]), int(x[1])] + .7)\n",
        "    # in case we want w to have no influence, f must be constant equal to 1\n",
        "    # the more w is high the smaller f must be\n",
        "    f = lambda x, u: .1/(2.5*W[int(x[0]), int(x[1])] + .1)\n",
        "    # f = lambda x, u: 1.\n",
        "\n",
        "    history = {}\n",
        "\n",
        "\n",
        "    # Main Algorithm\n",
        "    # initialize U to infinity and all points at far\n",
        "    print(\"Starting...\")\n",
        "    U = np.ones((N, N)) * np.inf\n",
        "    V = np.ones((N, N)) * np.inf\n",
        "    M = np.ones((N, N)) * 2\n",
        "\n",
        "    # move x0 to accepted and u = 0\n",
        "    U[x0[0], x0[1]] = 0\n",
        "    V[x0[0], x0[1]] = 0\n",
        "    M[x0[0], x0[1]] = 0\n",
        "    # initialize AF to empty\n",
        "    AF = []\n",
        "\n",
        "    print(\"Initialization done.\")\n",
        "\n",
        "    M[0, 1] = 0\n",
        "    M[1, 0] = 0\n",
        "    U[0, 1] = 1 / f(np.array([0, 1]), - np.array([0, 1]))\n",
        "    U[1, 0] = 1 / f(np.array([1, 0]), - np.array([1, 0]))\n",
        "\n",
        "\n",
        "    # move all points adjacent to boundary to considered and evaluate U\n",
        "    for i in range(N):\n",
        "        for j in range(N):\n",
        "            if M[i, j] == 2:\n",
        "                for k in range(-1, 2):\n",
        "                    for l in range(-1, 2):\n",
        "                        if (k != 0 or l != 0) and i+k >= 0 and i+k < N and j+l >= 0 and j+l < N:\n",
        "                            if M[i+k, j+l] == 0:\n",
        "                                history_copy = history.copy()\n",
        "                                M[i, j] = 1\n",
        "                                U[i, j], history = compute_U(np.array([i, j]), np.array([i+k, j+l]), np.array([i+k, j+l]), U[i+k, j+l], U[i+k, j+l], f, history_copy)\n",
        "                                break\n",
        "                    if M[i, j] == 1:\n",
        "                        break\n",
        "\n",
        "\n",
        "    Accepted_Front = compute_AcceptedFront(M, obstacle_points)\n",
        "    AF = compute_AF(M, Accepted_Front)\n",
        "    for i in range(N):\n",
        "        for j in range(N):\n",
        "            if M[i, j] == 1:\n",
        "                x_NF = compute_NF(np.array([i, j]), AF)\n",
        "                for couple in x_NF:\n",
        "                    # if U is not infinity and both points of couple are not (i,j) and (i,j) is not in obstacle\n",
        "                    if U[couple[0][0], couple[0][1]] != np.inf and U[couple[1][0], couple[1][1]] != np.inf and (couple[0][0] != i or couple[0][1] != j) and (couple[1][0] != i or couple[1][1] != j) and not np_belongs(np.array([i, j]), obstacle_points):\n",
        "                        history_copy = history.copy()\n",
        "                        new_u, history = compute_U(np.array([i, j]), couple[0], couple[1], U[couple[0][0], couple[0][1]], U[couple[1][0], couple[1][1]], f, history_copy)\n",
        "                        U[i, j] = np.min([U[i, j], new_u])\n",
        "\n",
        "\n",
        "    AcceptedFront = compute_AcceptedFront(M, obstacle_points)\n",
        "    AF = compute_AF(M, AcceptedFront)\n",
        "\n",
        "    for _ in tqdm(range(N*N)):\n",
        "        # find the considered point with smallest U\n",
        "        smallest_U = np.inf\n",
        "        smallest_U_point = np.array([0, 0])\n",
        "        for i in range(N):\n",
        "            for j in range(N):\n",
        "                if M[i, j] == 1 and U[i, j] <= smallest_U and not np_belongs(np.array([i, j]), obstacle_points):\n",
        "                    smallest_U = U[i, j]\n",
        "                    smallest_U_point = np.array([i, j])\n",
        "        # print(\"smallest_U_point: \", smallest_U_point)\n",
        "        # move the point to accepted\n",
        "        M[smallest_U_point[0], smallest_U_point[1]] = 0\n",
        "        # update AF\n",
        "        AcceptedFront = compute_AcceptedFront(M, obstacle_points)\n",
        "        AF = compute_AF(M, AcceptedFront)\n",
        "        # move far points adjacent to the accepted point to considered\n",
        "        neighbors = [np.array([smallest_U_point[0]-1, smallest_U_point[1]]), np.array([smallest_U_point[0]+1, smallest_U_point[1]]), np.array([smallest_U_point[0], smallest_U_point[1]-1]), np.array([smallest_U_point[0], smallest_U_point[1]+1]), np.array([smallest_U_point[0]-1, smallest_U_point[1]-1]), np.array([smallest_U_point[0]-1, smallest_U_point[1]+1]), np.array([smallest_U_point[0]+1, smallest_U_point[1]-1]), np.array([smallest_U_point[0]+1, smallest_U_point[1]+1])]\n",
        "        for neighbor in neighbors:\n",
        "            # if neighbor is in bounds and is far and is not in o\n",
        "            if neighbor[0] >= 0 and neighbor[0] < N and neighbor[1] >= 0 and neighbor[1] < N and M[neighbor[0], neighbor[1]] == 2 and not np_belongs(neighbor, obstacle_points):\n",
        "                M[neighbor[0], neighbor[1]] = 1\n",
        "        # for all considered points within distance maxdist from x and not in o, recompute U\n",
        "        for i in range(N):\n",
        "            for j in range(N):\n",
        "                if M[i, j] == 1 and not np_belongs(np.array([i, j]), obstacle_points):\n",
        "                    x_NF = compute_NF(np.array([i, j]), AF)\n",
        "                    for couple in x_NF:\n",
        "                        # if U is not infinity and both points of couple are different from x\n",
        "                        if U[couple[0][0], couple[0][1]] != np.inf and U[couple[1][0], couple[1][1]] != np.inf and not np.array_equal(couple[0], np.array([i, j])) and not np.array_equal(couple[1], np.array([i, j])):\n",
        "                            history_copy = history.copy()\n",
        "                            new_u, history = compute_U(np.array([i, j]), couple[0], couple[1], U[couple[0][0], couple[0][1]], U[couple[1][0], couple[1][1]], f, history_copy)\n",
        "                            U[i, j] = np.min([U[i, j], new_u])\n",
        "    # mark all obstacle points asa accepted\n",
        "    for obstacle_point in obstacle_points:\n",
        "        M[obstacle_point[0], obstacle_point[1]] = 0\n",
        "    \n",
        "    # verify there is no more considered point with exists_considered\n",
        "    assert not exists_considered(M)[0]\n",
        "    print(\"U computed.\")\n",
        "\n",
        "    return U\n"
      ]
    },
    {
      "cell_type": "code",
      "execution_count": 5,
      "metadata": {
        "id": "tL_RUKeFRIEZ"
      },
      "outputs": [],
      "source": [
        "def path_finder(N, x0, xf, camera_list, obstacle_list, saveU=0):\n",
        "    # compute U\n",
        "    print(\"---------------------\")\n",
        "    print(\"Computing U...\")\n",
        "    U = main_U(N, x0, xf, camera_list, obstacle_list)\n",
        "    print(\"---------------------\")\n",
        "    \n",
        "    if saveU:\n",
        "        image = plt.imshow(U)\n",
        "        plt.colorbar(image)\n",
        "        plt.title(\"U matrix in a {}x{} grid\".format(N, N))\n",
        "        plt.show()\n",
        "    # compute path from xf to x0\n",
        "    path = []\n",
        "    path.append(xf)\n",
        "    while np.linalg.norm(path[-1] - x0) > .5:\n",
        "        neighbors = [np.array([path[-1][0]-1, path[-1][1]]), np.array([path[-1][0]+1, path[-1][1]]), np.array([path[-1][0], path[-1][1]-1]), np.array([path[-1][0], path[-1][1]+1]), np.array([path[-1][0]-1, path[-1][1]-1]), np.array([path[-1][0]-1, path[-1][1]+1]), np.array([path[-1][0]+1, path[-1][1]-1]), np.array([path[-1][0]+1, path[-1][1]+1])]\n",
        "        smallest_U = np.inf\n",
        "        smallest_U_point = np.array([0, 0])\n",
        "        for neighbor in neighbors:\n",
        "            if neighbor[0] >= 0 and neighbor[0] < N and neighbor[1] >= 0 and neighbor[1] < N and U[neighbor[0], neighbor[1]] < smallest_U:\n",
        "                smallest_U = U[neighbor[0], neighbor[1]]\n",
        "                smallest_U_point = neighbor\n",
        "        path.append(smallest_U_point)\n",
        "        # if the current point is the same as the preprevious one (i.e. the path is stuck), then break\n",
        "        if len(path) > 2 and np.linalg.norm(path[-1] - path[-3]) < .5:\n",
        "            print(\"stuck at\", path[-1], path[-2])\n",
        "            break\n",
        "        # if the current point is the same as the last, break too\n",
        "        if len(path) > 1 and np.linalg.norm(path[-1] - path[-2]) < .5:\n",
        "            print(\"stuck at\", path[-1], path[-2])\n",
        "            break\n",
        "    print(\"Path computed.\")\n",
        "    return path, U"
      ]
    },
    {
      "cell_type": "code",
      "execution_count": 9,
      "metadata": {
        "colab": {
          "base_uri": "https://localhost:8080/",
          "height": 756
        },
        "id": "bohBpB3LRP2m",
        "outputId": "1d40a5ac-e899-46d4-ff25-0d84ae4f966c"
      },
      "outputs": [
        {
          "name": "stdout",
          "output_type": "stream",
          "text": [
            "---------------------\n",
            "Computing U...\n",
            "Starting...\n",
            "Initialization done.\n"
          ]
        },
        {
          "name": "stderr",
          "output_type": "stream",
          "text": [
            "100%|██████████| 25/25 [00:00<00:00, 73.63it/s]"
          ]
        },
        {
          "name": "stdout",
          "output_type": "stream",
          "text": [
            "U computed.\n",
            "---------------------\n"
          ]
        },
        {
          "name": "stderr",
          "output_type": "stream",
          "text": [
            "\n"
          ]
        },
        {
          "data": {
            "image/png": "[encoded data removed]",
            "text/plain": [
              "<Figure size 432x288 with 2 Axes>"
            ]
          },
          "metadata": {
            "needs_background": "light"
          },
          "output_type": "display_data"
        },
        {
          "name": "stdout",
          "output_type": "stream",
          "text": [
            "Path computed.\n",
            "Path:  [array([3, 4]), array([2, 4]), array([1, 4]), array([0, 3]), array([0, 2]), array([0, 1]), array([0, 0])]\n"
          ]
        },
        {
          "data": {
            "image/png": "[encoded data removed]",
            "text/plain": [
              "<Figure size 432x288 with 1 Axes>"
            ]
          },
          "metadata": {
            "needs_background": "light"
          },
          "output_type": "display_data"
        }
      ],
      "source": [
        "  N = 5\n",
        "  visualize = True\n",
        "  saveU = True\n",
        "  \n",
        "  x0 = np.array([0, 0])\n",
        "  xf = np.array([N//2 + 1, N-1])\n",
        "\n",
        "  # defining obstacles\n",
        "      # defining obstacles\n",
        "  obstacle_list = []\n",
        "  \n",
        "  # define a square obstacle\n",
        "  obstacle_list.append([2, 2, 2, 2])\n",
        "\n",
        "  # defining cameras\n",
        "  # camera_list = []\n",
        "  # # we define a camera C by its position (x,y), its orientation theta and its angle alpha\n",
        "  # cam_x, cam_y = 0, N-1\n",
        "  # cam = np.array([cam_x, cam_y])\n",
        "  # # points towards (2, 0)\n",
        "  # theta = -np.pi/4\n",
        "  # alpha = .8\n",
        "  # camera_list.append([cam, theta, alpha])\n",
        "  # camera_list = [[np.array([0, N-1]), -np.pi/4, .5]]\n",
        "  camera_list = [[np.array([0, N-1]), -np.pi/4, 0.4]]\n",
        "\n",
        "  path, U = path_finder(N, x0, xf, camera_list,  obstacle_list, saveU=saveU)\n",
        "  print(\"Path: \", path)\n",
        "\n",
        "  if visualize:\n",
        "      camera_points = []\n",
        "      for cam in camera_list:\n",
        "          # compute visible points\n",
        "          visible_points = compute_camera_visible_points(cam, obstacle_list, N)\n",
        "          for point in visible_points:\n",
        "              camera_points.append(np.array(point))\n",
        "      \n",
        "      for camera in camera_list:\n",
        "          cam, theta, alpha = camera\n",
        "          camera_points.append(cam)\n",
        "\n",
        "      for i in range(N):\n",
        "          for j in range(N):\n",
        "              plt.plot(i, j, 'wo')\n",
        "      for i in range(len(path)):\n",
        "          plt.plot(path[i][0], path[i][1], 'go')\n",
        "      # visualize obstacle\n",
        "      for point in obstacles_list_to_points(obstacle_list):\n",
        "          plt.plot(point[0], point[1], 'ro')\n",
        "      # visualize camera\n",
        "      for point in camera_points:\n",
        "          # if point is not in path\n",
        "          if not any((point == x).all() for x in path):\n",
        "              plt.plot(point[0], point[1], 'bo')\n",
        "          else: # plot in purple\n",
        "              plt.plot(point[0], point[1], 'mo')\n",
        "      plt.title(\"Optimal path on a {}x{} grid\".format(N, N))\n",
        "      plt.show()"
      ]
    },
    {
      "cell_type": "code",
      "execution_count": null,
      "metadata": {
        "colab": {
          "base_uri": "https://localhost:8080/",
          "height": 756
        },
        "id": "FMrlYSPn0eOd",
        "outputId": "6fb06479-6ec5-4ce4-b90c-8594f72eff9d"
      },
      "outputs": [
        {
          "name": "stdout",
          "output_type": "stream",
          "text": [
            "---------------------\n",
            "Computing U...\n",
            "Starting...\n",
            "Initialization done.\n"
          ]
        },
        {
          "name": "stderr",
          "output_type": "stream",
          "text": [
            "100%|██████████| 400/400 [05:07<00:00,  1.30it/s]\n"
          ]
        },
        {
          "name": "stdout",
          "output_type": "stream",
          "text": [
            "U computed.\n",
            "---------------------\n"
          ]
        },
        {
          "data": {
            "image/png": "[encoded data removed]",
            "text/plain": [
              "<Figure size 432x288 with 2 Axes>"
            ]
          },
          "metadata": {
            "needs_background": "light"
          },
          "output_type": "display_data"
        },
        {
          "name": "stdout",
          "output_type": "stream",
          "text": [
            "Path computed.\n",
            "Path:  [array([19, 19]), array([18, 18]), array([17, 17]), array([17, 16]), array([17, 15]), array([17, 14]), array([17, 13]), array([17, 12]), array([17, 11]), array([17, 10]), array([17,  9]), array([17,  8]), array([17,  7]), array([17,  6]), array([17,  5]), array([17,  4]), array([17,  3]), array([17,  2]), array([16,  1]), array([15,  0]), array([14,  0]), array([13,  0]), array([12,  0]), array([11,  0]), array([10,  0]), array([9, 0]), array([8, 0]), array([7, 0]), array([6, 0]), array([5, 0]), array([4, 0]), array([3, 0]), array([2, 0]), array([1, 0]), array([0, 0])]\n",
            "Path length:  35.65685424949238\n",
            "--- 307.72449350357056 seconds ---\n"
          ]
        },
        {
          "data": {
            "image/png": "[encoded data removed]",
            "text/plain": [
              "<Figure size 432x288 with 1 Axes>"
            ]
          },
          "metadata": {
            "needs_background": "light"
          },
          "output_type": "display_data"
        }
      ],
      "source": [
        "  N = 20\n",
        "  visualize = True\n",
        "  saveU = True\n",
        "  \n",
        "  x0 = np.array([0, 0])\n",
        "  xf = np.array([N-1, N-1])\n",
        "\n",
        "  obstacle_list = []\n",
        "  obstacle_list.append([10, 2, 7])\n",
        "  camera_list = [[np.array([0, N-1]), -np.pi/4, 0.4]]\n",
        "\n",
        "  start_time = time.time()\n",
        "  path = path_finder(N, x0, xf, camera_list,  obstacle_list, saveU=saveU)\n",
        "  print(\"Path: \", path)\n",
        "  # compute path length with cost_path\n",
        "  print(\"Path length: \", cost_path(path))\n",
        "  print(\"--- %s seconds ---\" % (time.time() - start_time))\n",
        "\n",
        "  # path = [[0, 0]]\n",
        "\n",
        "  if visualize:\n",
        "      camera_points = []\n",
        "      for cam in camera_list:\n",
        "          # compute visible points\n",
        "          visible_points = compute_camera_visible_points(cam, obstacle_list, N)\n",
        "          for point in visible_points:\n",
        "              camera_points.append(np.array(point))\n",
        "      \n",
        "      for camera in camera_list:\n",
        "          cam, theta, alpha = camera\n",
        "          camera_points.append(cam)\n",
        "\n",
        "      for i in range(N):\n",
        "          for j in range(N):\n",
        "              plt.plot(i, j, 'wo')\n",
        "      for i in range(len(path)):\n",
        "          plt.plot(path[i][0], path[i][1], 'go')\n",
        "      # visualize obstacle\n",
        "      for point in obstacles_list_to_points(obstacle_list):\n",
        "          plt.plot(point[0], point[1], 'ro')\n",
        "      # visualize camera\n",
        "      for point in camera_points:\n",
        "          # if point is not in path\n",
        "          if not any((point == x).all() for x in path):\n",
        "              plt.plot(point[0], point[1], 'bo')\n",
        "          else: # plot in purple\n",
        "              plt.plot(point[0], point[1], 'mo')\n",
        "      plt.title(\"Optimal path on a {}x{} grid\".format(N, N))\n",
        "      plt.show()"
      ]
    },
    {
      "cell_type": "code",
      "execution_count": null,
      "metadata": {
        "colab": {
          "base_uri": "https://localhost:8080/",
          "height": 756
        },
        "id": "r8D0dr3qM00L",
        "outputId": "7ec42bc1-494e-4b51-e496-c6eda1c7a293"
      },
      "outputs": [
        {
          "name": "stdout",
          "output_type": "stream",
          "text": [
            "---------------------\n",
            "Computing U...\n",
            "Starting...\n",
            "Initialization done.\n"
          ]
        },
        {
          "name": "stderr",
          "output_type": "stream",
          "text": [
            "100%|██████████| 400/400 [04:29<00:00,  1.48it/s]\n"
          ]
        },
        {
          "name": "stdout",
          "output_type": "stream",
          "text": [
            "U computed.\n",
            "---------------------\n"
          ]
        },
        {
          "data": {
            "image/png": "[encoded data removed]",
            "text/plain": [
              "<Figure size 432x288 with 2 Axes>"
            ]
          },
          "metadata": {
            "needs_background": "light"
          },
          "output_type": "display_data"
        },
        {
          "name": "stdout",
          "output_type": "stream",
          "text": [
            "Path computed.\n",
            "Path:  [array([19, 19]), array([18, 18]), array([17, 17]), array([16, 16]), array([15, 15]), array([14, 14]), array([13, 13]), array([12, 12]), array([11, 12]), array([10, 11]), array([ 9, 10]), array([8, 9]), array([7, 8]), array([6, 7]), array([5, 6]), array([4, 5]), array([3, 4]), array([2, 3]), array([1, 2]), array([0, 1]), array([0, 0])]\n",
            "Path length:  27.45584412271572\n",
            "--- 270.2162992954254 seconds ---\n"
          ]
        },
        {
          "data": {
            "image/png": "[encoded data removed]",
            "text/plain": [
              "<Figure size 432x288 with 1 Axes>"
            ]
          },
          "metadata": {
            "needs_background": "light"
          },
          "output_type": "display_data"
        }
      ],
      "source": [
        "  N = 20\n",
        "  visualize = True\n",
        "  saveU = True\n",
        "  \n",
        "  x0 = np.array([0, 0])\n",
        "  xf = np.array([N-1, N-1])\n",
        "\n",
        "  obstacle_list = []\n",
        "  obstacle_list.append([10, 2, 7])\n",
        "  camera_list = [[np.array([0, N-1]), -0.8, 0.4]]\n",
        "\n",
        "  start_time = time.time()\n",
        "  path = path_finder(N, x0, xf, camera_list,  obstacle_list, saveU=saveU)\n",
        "  print(\"Path: \", path)\n",
        "  # compute path length with cost_path\n",
        "  print(\"Path length: \", cost_path(path))\n",
        "  print(\"--- %s seconds ---\" % (time.time() - start_time))\n",
        "\n",
        "  # path = [[0, 0]]\n",
        "\n",
        "  if visualize:\n",
        "      camera_points = []\n",
        "      for cam in camera_list:\n",
        "          # compute visible points\n",
        "          visible_points = compute_camera_visible_points(cam, obstacle_list, N)\n",
        "          for point in visible_points:\n",
        "              camera_points.append(np.array(point))\n",
        "      \n",
        "      for camera in camera_list:\n",
        "          cam, theta, alpha = camera\n",
        "          camera_points.append(cam)\n",
        "\n",
        "      for i in range(N):\n",
        "          for j in range(N):\n",
        "              plt.plot(i, j, 'wo')\n",
        "      for i in range(len(path)):\n",
        "          plt.plot(path[i][0], path[i][1], 'go')\n",
        "      # visualize obstacle\n",
        "      for point in obstacles_list_to_points(obstacle_list):\n",
        "          plt.plot(point[0], point[1], 'ro')\n",
        "      # visualize camera\n",
        "      for point in camera_points:\n",
        "          # if point is not in path\n",
        "          if not any((point == x).all() for x in path):\n",
        "              plt.plot(point[0], point[1], 'bo')\n",
        "          else: # plot in purple\n",
        "              plt.plot(point[0], point[1], 'mo')\n",
        "      plt.title(\"Optimal path on a {}x{} grid\".format(N, N))\n",
        "      plt.show()"
      ]
    },
    {
      "cell_type": "code",
      "execution_count": null,
      "metadata": {
        "colab": {
          "base_uri": "https://localhost:8080/",
          "height": 756
        },
        "id": "VbknmTJ_ZJ_6",
        "outputId": "8a9c4a2b-396f-4c3e-9610-03d9ab94542a"
      },
      "outputs": [
        {
          "name": "stdout",
          "output_type": "stream",
          "text": [
            "---------------------\n",
            "Computing U...\n",
            "Starting...\n",
            "Initialization done.\n"
          ]
        },
        {
          "name": "stderr",
          "output_type": "stream",
          "text": [
            "100%|██████████| 400/400 [04:25<00:00,  1.51it/s]\n"
          ]
        },
        {
          "name": "stdout",
          "output_type": "stream",
          "text": [
            "U computed.\n",
            "---------------------\n"
          ]
        },
        {
          "data": {
            "image/png": "[encoded data removed]",
            "text/plain": [
              "<Figure size 432x288 with 2 Axes>"
            ]
          },
          "metadata": {
            "needs_background": "light"
          },
          "output_type": "display_data"
        },
        {
          "name": "stdout",
          "output_type": "stream",
          "text": [
            "Path computed.\n",
            "Path:  [array([19, 19]), array([18, 18]), array([17, 17]), array([16, 16]), array([15, 15]), array([14, 14]), array([13, 13]), array([12, 12]), array([11, 11]), array([10, 10]), array([9, 9]), array([8, 8]), array([7, 7]), array([6, 6]), array([5, 5]), array([4, 4]), array([3, 3]), array([2, 2]), array([1, 1]), array([0, 0])]\n",
            "Path length:  26.870057685088817\n",
            "--- 265.9583160877228 seconds ---\n"
          ]
        },
        {
          "data": {
            "image/png": "[encoded data removed]",
            "text/plain": [
              "<Figure size 432x288 with 1 Axes>"
            ]
          },
          "metadata": {
            "needs_background": "light"
          },
          "output_type": "display_data"
        }
      ],
      "source": [
        "  N = 20\n",
        "  visualize = True\n",
        "  saveU = True\n",
        "  \n",
        "  x0 = np.array([0, 0])\n",
        "  xf = np.array([N-1, N-1])\n",
        "\n",
        "  obstacle_list = []\n",
        "  obstacle_list.append([10, 2, 7])\n",
        "  camera_list = [[np.array([0, N-1]), -0.8, 0.4]]\n",
        "\n",
        "  start_time = time.time()\n",
        "  path = path_finder(N, x0, xf, camera_list,  obstacle_list, saveU=saveU)\n",
        "  print(\"Path: \", path)\n",
        "  # compute path length with cost_path\n",
        "  print(\"Path length: \", cost_path(path))\n",
        "  print(\"--- %s seconds ---\" % (time.time() - start_time))\n",
        "\n",
        "  # path = [[0, 0]]\n",
        "\n",
        "  if visualize:\n",
        "      camera_points = []\n",
        "      for cam in camera_list:\n",
        "          # compute visible points\n",
        "          visible_points = compute_camera_visible_points(cam, obstacle_list, N)\n",
        "          for point in visible_points:\n",
        "              camera_points.append(np.array(point))\n",
        "      \n",
        "      for camera in camera_list:\n",
        "          cam, theta, alpha = camera\n",
        "          camera_points.append(cam)\n",
        "\n",
        "      for i in range(N):\n",
        "          for j in range(N):\n",
        "              plt.plot(i, j, 'wo')\n",
        "      for i in range(len(path)):\n",
        "          plt.plot(path[i][0], path[i][1], 'go')\n",
        "      # visualize obstacle\n",
        "      for point in obstacles_list_to_points(obstacle_list):\n",
        "          plt.plot(point[0], point[1], 'ro')\n",
        "      # visualize camera\n",
        "      for point in camera_points:\n",
        "          # if point is not in path\n",
        "          if not any((point == x).all() for x in path):\n",
        "              plt.plot(point[0], point[1], 'bo')\n",
        "          else: # plot in purple\n",
        "              plt.plot(point[0], point[1], 'mo')\n",
        "      plt.title(\"Optimal path on a {}x{} grid\".format(N, N))\n",
        "      plt.show()"
      ]
    },
    {
      "cell_type": "code",
      "execution_count": null,
      "metadata": {
        "colab": {
          "base_uri": "https://localhost:8080/",
          "height": 773
        },
        "id": "jhWUdp1Z5Pvk",
        "outputId": "2743e22c-657f-4b74-a0d7-4f052b8bf527"
      },
      "outputs": [
        {
          "name": "stdout",
          "output_type": "stream",
          "text": [
            "---------------------\n",
            "Computing U...\n",
            "Starting...\n",
            "Initialization done.\n"
          ]
        },
        {
          "name": "stderr",
          "output_type": "stream",
          "text": [
            "100%|██████████| 100/100 [00:16<00:00,  6.02it/s]\n"
          ]
        },
        {
          "name": "stdout",
          "output_type": "stream",
          "text": [
            "U computed.\n",
            "---------------------\n"
          ]
        },
        {
          "data": {
            "image/png": "[encoded data removed]",
            "text/plain": [
              "<Figure size 432x288 with 2 Axes>"
            ]
          },
          "metadata": {
            "needs_background": "light"
          },
          "output_type": "display_data"
        },
        {
          "name": "stdout",
          "output_type": "stream",
          "text": [
            "Path computed.\n",
            "Path:  [array([9, 9]), array([9, 8]), array([9, 7]), array([9, 6]), array([9, 5]), array([8, 4]), array([8, 3]), array([8, 2]), array([7, 1]), array([6, 1]), array([5, 0]), array([4, 0]), array([3, 0]), array([2, 0]), array([1, 0]), array([0, 0])]\n",
            "Path length:  16.242640687119284\n",
            "--- 17.16120219230652 seconds ---\n"
          ]
        },
        {
          "data": {
            "image/png": "[encoded data removed]",
            "text/plain": [
              "<Figure size 432x288 with 1 Axes>"
            ]
          },
          "metadata": {
            "needs_background": "light"
          },
          "output_type": "display_data"
        },
        {
          "name": "stdout",
          "output_type": "stream",
          "text": [
            "Score : 14.675193953331016\n"
          ]
        }
      ],
      "source": [
        "  N = 10\n",
        "  visualize = True\n",
        "  saveU = True\n",
        "  \n",
        "  x0 = np.array([0, 0])\n",
        "  xf = np.array([N-1, N-1])\n",
        "\n",
        "  obstacle_list = []\n",
        "  obstacle_list.append([5, 2, 3])\n",
        "  camera_list = [[np.array([0, 9]), -.8, 0.7]]\n",
        "\n",
        "  start_time = time.time()\n",
        "  path, U = path_finder(N, x0, xf, camera_list,  obstacle_list, saveU=saveU)\n",
        "  print(\"Path: \", path)\n",
        "  # compute path length with cost_path\n",
        "  print(\"Path length: \", cost_path(path))\n",
        "  print(\"--- %s seconds ---\" % (time.time() - start_time))\n",
        "\n",
        "  # path = [[0, 0]]\n",
        "  counter = 0\n",
        "\n",
        "  if visualize:\n",
        "      camera_points = []\n",
        "      for cam in camera_list:\n",
        "          # compute visible points\n",
        "          visible_points = compute_camera_visible_points(cam, obstacle_list, N)\n",
        "          for point in visible_points:\n",
        "              camera_points.append(np.array(point))\n",
        "      \n",
        "      for camera in camera_list:\n",
        "          cam, theta, alpha = camera\n",
        "          camera_points.append(cam)\n",
        "\n",
        "      for i in range(N):\n",
        "          for j in range(N):\n",
        "              plt.plot(i, j, 'wo')\n",
        "      for i in range(len(path)):\n",
        "          plt.plot(path[i][0], path[i][1], 'go')\n",
        "      # visualize obstacle\n",
        "      for point in obstacles_list_to_points(obstacle_list):\n",
        "          plt.plot(point[0], point[1], 'ro')\n",
        "      # visualize camera\n",
        "      for point in camera_points:\n",
        "          # if point is not in path\n",
        "          if not any((point == x).all() for x in path):\n",
        "              plt.plot(point[0], point[1], 'bo')\n",
        "          else: # plot in purple\n",
        "              plt.plot(point[0], point[1], 'mo')\n",
        "              counter += 1\n",
        "      plt.title(\"Optimal path on a {}x{} grid\".format(N, N))\n",
        "      plt.show()\n",
        "\n",
        "  print(\"Score :\", U[xf[0], xf[1]])"
      ]
    },
    {
      "cell_type": "code",
      "execution_count": null,
      "metadata": {
        "colab": {
          "base_uri": "https://localhost:8080/",
          "height": 773
        },
        "id": "PGfFuLY9BtOy",
        "outputId": "509190e3-163e-4c80-ff0e-eb73b85784e5"
      },
      "outputs": [
        {
          "name": "stdout",
          "output_type": "stream",
          "text": [
            "---------------------\n",
            "Computing U...\n",
            "Starting...\n",
            "Initialization done.\n"
          ]
        },
        {
          "name": "stderr",
          "output_type": "stream",
          "text": [
            "100%|██████████| 100/100 [00:15<00:00,  6.51it/s]\n"
          ]
        },
        {
          "name": "stdout",
          "output_type": "stream",
          "text": [
            "U computed.\n",
            "---------------------\n"
          ]
        },
        {
          "data": {
            "image/png": "[encoded data removed]",
            "text/plain": [
              "<Figure size 432x288 with 2 Axes>"
            ]
          },
          "metadata": {
            "needs_background": "light"
          },
          "output_type": "display_data"
        },
        {
          "name": "stdout",
          "output_type": "stream",
          "text": [
            "Path computed.\n",
            "Path:  [array([9, 9]), array([8, 8]), array([8, 7]), array([8, 6]), array([8, 5]), array([8, 4]), array([8, 3]), array([8, 2]), array([7, 1]), array([6, 0]), array([5, 0]), array([4, 0]), array([3, 0]), array([2, 0]), array([1, 0]), array([0, 0])]\n",
            "Path length:  16.242640687119284\n",
            "--- 15.893737077713013 seconds ---\n"
          ]
        },
        {
          "data": {
            "image/png": "[encoded data removed]",
            "text/plain": [
              "<Figure size 432x288 with 1 Axes>"
            ]
          },
          "metadata": {
            "needs_background": "light"
          },
          "output_type": "display_data"
        },
        {
          "name": "stdout",
          "output_type": "stream",
          "text": [
            "Score : 17.57490143906125\n"
          ]
        }
      ],
      "source": [
        "  N = 10\n",
        "  visualize = True\n",
        "  saveU = True\n",
        "  \n",
        "  x0 = np.array([0, 0])\n",
        "  xf = np.array([N-1, N-1])\n",
        "\n",
        "  obstacle_list = []\n",
        "  obstacle_list.append([5, 2, 3])\n",
        "  camera_list = [[np.array([9, 9]), -3*.8, 0.7]]\n",
        "\n",
        "  start_time = time.time()\n",
        "  path, U = path_finder(N, x0, xf, camera_list,  obstacle_list, saveU=saveU)\n",
        "  print(\"Path: \", path)\n",
        "  # compute path length with cost_path\n",
        "  print(\"Path length: \", cost_path(path))\n",
        "  print(\"--- %s seconds ---\" % (time.time() - start_time))\n",
        "\n",
        "  # path = [[0, 0]]\n",
        "  counter = 0\n",
        "\n",
        "  if visualize:\n",
        "      camera_points = []\n",
        "      for cam in camera_list:\n",
        "          # compute visible points\n",
        "          visible_points = compute_camera_visible_points(cam, obstacle_list, N)\n",
        "          for point in visible_points:\n",
        "              camera_points.append(np.array(point))\n",
        "      \n",
        "      for camera in camera_list:\n",
        "          cam, theta, alpha = camera\n",
        "          camera_points.append(cam)\n",
        "\n",
        "      for i in range(N):\n",
        "          for j in range(N):\n",
        "              plt.plot(i, j, 'wo')\n",
        "      for i in range(len(path)):\n",
        "          plt.plot(path[i][0], path[i][1], 'go')\n",
        "      # visualize obstacle\n",
        "      for point in obstacles_list_to_points(obstacle_list):\n",
        "          plt.plot(point[0], point[1], 'ro')\n",
        "      # visualize camera\n",
        "      for point in camera_points:\n",
        "          # if point is not in path\n",
        "          if not any((point == x).all() for x in path):\n",
        "              plt.plot(point[0], point[1], 'bo')\n",
        "          else: # plot in purple\n",
        "              plt.plot(point[0], point[1], 'mo')\n",
        "              counter += 1\n",
        "      plt.title(\"Optimal path on a {}x{} grid\".format(N, N))\n",
        "      plt.show()\n",
        "\n",
        "  print(\"Score :\", U[xf[0], xf[1]])"
      ]
    },
    {
      "cell_type": "code",
      "execution_count": null,
      "metadata": {
        "colab": {
          "base_uri": "https://localhost:8080/",
          "height": 773
        },
        "id": "1WFe6q_REog6",
        "outputId": "239574c4-4b8b-47ef-e3c1-657bb4ac96f7"
      },
      "outputs": [
        {
          "name": "stdout",
          "output_type": "stream",
          "text": [
            "---------------------\n",
            "Computing U...\n",
            "Starting...\n",
            "Initialization done.\n"
          ]
        },
        {
          "name": "stderr",
          "output_type": "stream",
          "text": [
            "100%|██████████| 100/100 [00:17<00:00,  5.66it/s]\n"
          ]
        },
        {
          "name": "stdout",
          "output_type": "stream",
          "text": [
            "U computed.\n",
            "---------------------\n"
          ]
        },
        {
          "data": {
            "image/png": "[encoded data removed]",
            "text/plain": [
              "<Figure size 432x288 with 2 Axes>"
            ]
          },
          "metadata": {
            "needs_background": "light"
          },
          "output_type": "display_data"
        },
        {
          "name": "stdout",
          "output_type": "stream",
          "text": [
            "Path computed.\n",
            "Path:  [array([9, 9]), array([8, 8]), array([7, 7]), array([6, 6]), array([5, 5]), array([4, 4]), array([3, 3]), array([2, 2]), array([1, 1]), array([0, 0])]\n",
            "Path length:  12.727922061357859\n",
            "--- 18.1480712890625 seconds ---\n"
          ]
        },
        {
          "data": {
            "image/png": "[encoded data removed]",
            "text/plain": [
              "<Figure size 432x288 with 1 Axes>"
            ]
          },
          "metadata": {
            "needs_background": "light"
          },
          "output_type": "display_data"
        },
        {
          "name": "stdout",
          "output_type": "stream",
          "text": [
            "Score : 17.953594156125742\n"
          ]
        }
      ],
      "source": [
        "  N = 10\n",
        "  visualize = True\n",
        "  saveU = True\n",
        "  \n",
        "  x0 = np.array([0, 0])\n",
        "  xf = np.array([N-1, N-1])\n",
        "\n",
        "  obstacle_list = []\n",
        "  obstacle_list.append([5, 2, 3])\n",
        "  camera_list = [[np.array([0, 7]), 0.0, 0.7]]\n",
        "\n",
        "  start_time = time.time()\n",
        "  path, U = path_finder(N, x0, xf, camera_list,  obstacle_list, saveU=saveU)\n",
        "  print(\"Path: \", path)\n",
        "  # compute path length with cost_path\n",
        "  print(\"Path length: \", cost_path(path))\n",
        "  print(\"--- %s seconds ---\" % (time.time() - start_time))\n",
        "\n",
        "  # path = [[0, 0]]\n",
        "  counter = 0\n",
        "\n",
        "  if visualize:\n",
        "      camera_points = []\n",
        "      for cam in camera_list:\n",
        "          # compute visible points\n",
        "          visible_points = compute_camera_visible_points(cam, obstacle_list, N)\n",
        "          for point in visible_points:\n",
        "              camera_points.append(np.array(point))\n",
        "      \n",
        "      for camera in camera_list:\n",
        "          cam, theta, alpha = camera\n",
        "          camera_points.append(cam)\n",
        "\n",
        "      for i in range(N):\n",
        "          for j in range(N):\n",
        "              plt.plot(i, j, 'wo')\n",
        "      for i in range(len(path)):\n",
        "          plt.plot(path[i][0], path[i][1], 'go')\n",
        "      # visualize obstacle\n",
        "      for point in obstacles_list_to_points(obstacle_list):\n",
        "          plt.plot(point[0], point[1], 'ro')\n",
        "      # visualize camera\n",
        "      for point in camera_points:\n",
        "          # if point is not in path\n",
        "          if not any((point == x).all() for x in path):\n",
        "              plt.plot(point[0], point[1], 'bo')\n",
        "          else: # plot in purple\n",
        "              plt.plot(point[0], point[1], 'mo')\n",
        "              counter += 1\n",
        "      plt.title(\"Optimal path on a {}x{} grid\".format(N, N))\n",
        "      plt.show()\n",
        "\n",
        "  print(\"Score :\", U[xf[0], xf[1]])"
      ]
    },
    {
      "cell_type": "code",
      "execution_count": 16,
      "metadata": {},
      "outputs": [
        {
          "name": "stdout",
          "output_type": "stream",
          "text": [
            "---------------------\n",
            "Computing U...\n",
            "Starting...\n",
            "Initialization done.\n"
          ]
        },
        {
          "name": "stderr",
          "output_type": "stream",
          "text": [
            "100%|██████████| 400/400 [01:37<00:00,  4.11it/s]"
          ]
        },
        {
          "name": "stdout",
          "output_type": "stream",
          "text": [
            "U computed.\n",
            "---------------------\n"
          ]
        },
        {
          "name": "stderr",
          "output_type": "stream",
          "text": [
            "\n"
          ]
        },
        {
          "data": {
            "image/png": "[encoded data removed]",
            "text/plain": [
              "<Figure size 432x288 with 2 Axes>"
            ]
          },
          "metadata": {
            "needs_background": "light"
          },
          "output_type": "display_data"
        },
        {
          "name": "stdout",
          "output_type": "stream",
          "text": [
            "Path computed.\n",
            "Path:  [array([19, 19]), array([18, 18]), array([17, 17]), array([17, 16]), array([16, 15]), array([15, 15]), array([14, 15]), array([13, 15]), array([12, 15]), array([11, 15]), array([10, 15]), array([ 9, 15]), array([ 8, 15]), array([ 7, 15]), array([ 6, 15]), array([ 5, 15]), array([ 4, 15]), array([ 3, 15]), array([ 2, 14]), array([ 3, 13]), array([ 4, 12]), array([ 5, 11]), array([ 6, 10]), array([6, 9]), array([6, 8]), array([6, 7]), array([5, 6]), array([4, 5]), array([3, 4]), array([3, 3]), array([3, 2]), array([3, 1]), array([2, 0]), array([1, 0]), array([0, 0])]\n",
            "Path length:  38.97056274847714\n"
          ]
        },
        {
          "data": {
            "image/png": "[encoded data removed]",
            "text/plain": [
              "<Figure size 432x288 with 1 Axes>"
            ]
          },
          "metadata": {
            "needs_background": "light"
          },
          "output_type": "display_data"
        },
        {
          "name": "stdout",
          "output_type": "stream",
          "text": [
            "Score : 238.0069969011745\n"
          ]
        }
      ],
      "source": [
        "  N = 20\n",
        "  visualize = True\n",
        "  saveU = True\n",
        "  \n",
        "  x0 = np.array([0, 0])\n",
        "  xf = np.array([N-1, N-1])\n",
        "\n",
        "  obstacle_list = [[2, 7, 4, 1], [9, 0, 1, 15], [3,14, 6, 1], [13, 16, 4, 4]]\n",
        "  camera_list = [[np.array([N-1, 0]), 3*.8-0.2, 0.7], [np.array([0, N-1]), -2*.8, 0.5]]\n",
        "#   camera_list = []\n",
        "\n",
        "  path, U = path_finder(N, x0, xf, camera_list,  obstacle_list, saveU=saveU)\n",
        "  print(\"Path: \", path)\n",
        "  # compute path length with cost_path\n",
        "  print(\"Path length: \", cost_path(path))\n",
        "\n",
        "#   path = [[0, 0]]\n",
        "  counter = 0\n",
        "\n",
        "  if visualize:\n",
        "      camera_points = []\n",
        "      for cam in camera_list:\n",
        "          # compute visible points\n",
        "          visible_points = compute_camera_visible_points(cam, obstacle_list, N)\n",
        "          for point in visible_points:\n",
        "              camera_points.append(np.array(point))\n",
        "      \n",
        "      for camera in camera_list:\n",
        "          cam, theta, alpha = camera\n",
        "          camera_points.append(cam)\n",
        "\n",
        "      for i in range(N):\n",
        "          for j in range(N):\n",
        "              plt.plot(i, j, 'wo')\n",
        "      for i in range(len(path)):\n",
        "          plt.plot(path[i][0], path[i][1], 'go')\n",
        "      # visualize obstacle\n",
        "      for point in obstacles_list_to_points(obstacle_list):\n",
        "          plt.plot(point[0], point[1], 'ro')\n",
        "      # visualize camera\n",
        "      for point in camera_points:\n",
        "          # if point is not in path\n",
        "          if not any((point == x).all() for x in path):\n",
        "              plt.plot(point[0], point[1], 'bo')\n",
        "          else: # plot in purple\n",
        "              plt.plot(point[0], point[1], 'mo')\n",
        "              counter += 1\n",
        "      plt.title(\"Optimal path on a {}x{} grid\".format(N, N))\n",
        "      plt.show()\n",
        "\n",
        "  print(\"Score :\", U[xf[0], xf[1]])"
      ]
    },
    {
      "cell_type": "code",
      "execution_count": 6,
      "metadata": {},
      "outputs": [],
      "source": [
        "from matplotlib.patches import Polygon, Circle, Rectangle\n",
        "\n",
        "def visualization(N, camera_list, obstacle_list, pos_start=np.array([-2., -2.]), pos_end=np.array([2., 2.])):\n",
        "    fig, ax = plt.subplots(1, 1, figsize=(2.5, 2.5))\n",
        "    x_min, y_min, x_max, y_max = -2., -2., 2., 2.\n",
        "\n",
        "    max_length = np.sqrt((x_max - x_min)**2 + (y_max - y_min)**2)\n",
        "\n",
        "    # ax setup\n",
        "    ax.axis([x_min, x_max, y_min, y_max])\n",
        "    ax.set_aspect(\"equal\")\n",
        "    ax.set_xticks([])\n",
        "    ax.set_xticks([], minor=True)\n",
        "    ax.set_yticks([])\n",
        "    ax.set_yticks([], minor=True)\n",
        "\n",
        "    for i in range(len(camera_list)):\n",
        "        cam_pos = camera_list[i][0]\n",
        "        cam_orient = camera_list[i][1]\n",
        "        cam_angle = camera_list[i][2]/2\n",
        "\n",
        "        center_base = cam_pos\n",
        "        direc = np.array([np.cos(cam_orient), np.sin(cam_orient)])\n",
        "        ortho = np.array([-np.sin(cam_orient), np.cos(cam_orient)])\n",
        "\n",
        "        vertices = np.stack(\n",
        "            [cam_pos,\n",
        "            cam_pos + max_length * (direc + np.sin(cam_angle) * ortho),\n",
        "            cam_pos + max_length * (direc - np.sin(cam_angle) * ortho)],\n",
        "            axis=0\n",
        "        )\n",
        "\n",
        "        cam_cone_plt = ax.add_patch(Polygon(\n",
        "            vertices,\n",
        "            fill=True,\n",
        "            alpha=.5,\n",
        "            color=(.7, .7, 0.),\n",
        "            zorder=3,\n",
        "            lw=0\n",
        "        ))\n",
        "\n",
        "    # example obs\n",
        "    # obs_pos = np.array([0.8, 0.1])\n",
        "    # obs_radius = 0.2\n",
        "\n",
        "    # obs_1_plt = ax.add_patch(Circle(\n",
        "    #     obs_pos,\n",
        "    #     obs_radius,\n",
        "    #     fill=True,\n",
        "    #     alpha=.5,\n",
        "    #     color=(.3, .1, .3),\n",
        "    #     zorder=1,\n",
        "    #     lw=0\n",
        "    # ))\n",
        "\n",
        "    # plot square obstacles\n",
        "    for obs in obstacle_list:\n",
        "        # obs is in the form (x, y, c) where (x, y) is the position of the lower left corner and c is the side length\n",
        "        obs_point = np.array([obs[0], obs[1]])\n",
        "        width, height = obs[2], obs[3]\n",
        "        obs_1_plt = ax.add_patch(Rectangle(obs_point, width, height))\n",
        "\n",
        "    # example traj\n",
        "    xls = np.linspace(x_min, x_max, N)\n",
        "    yls = np.linspace(y_min, y_max, N)\n",
        "\n",
        "    X, Y = np.meshgrid(xls, yls)\n",
        "\n",
        "\n",
        "    # should come extract from HJ on grid\n",
        "    # be carefull to use center of cells\n",
        "\n",
        "    # compute x0 and xf, making transition from real to grid\n",
        "    x0 = (pos_start - np.array([x_min, y_min])) / (x_max - x_min) * (N - 1)\n",
        "    xf = (pos_end - np.array([x_min, y_min])) / (x_max - x_min) * (N - 1)\n",
        "    # convert to int values\n",
        "    x0 = x0.astype(int)\n",
        "    xf = xf.astype(int)\n",
        "\n",
        "    # defining obstacles\n",
        "    grid_obstacle_list = []\n",
        "    # convert obstacle_list with real values between -2 and 2 to grid values between 0 and N-1\n",
        "    for obs in obstacle_list:\n",
        "        obs_radius_1 = obs[2]\n",
        "        obs_radius_2 = obs[3]\n",
        "        # convert obs_pos to grid\n",
        "        obs_x = (obs[0] - x_min) / (x_max - x_min) * (N - 1)\n",
        "        obs_y = (obs[1] - y_min) / (y_max - y_min) * (N - 1)\n",
        "        obs_rad_grid_1 = obs_radius_1 / (x_max - x_min) * (N - 1)\n",
        "        obs_rad_grid_2 = obs_radius_2 / (y_max - y_min) * (N - 1)\n",
        "        # convert to int\n",
        "        obs_x = int(obs_x)\n",
        "        obs_y = int(obs_y)\n",
        "        obs_radius_1 = int(obs_rad_grid_1)\n",
        "        obs_radius_2 = int(obs_rad_grid_2)\n",
        "        grid_obstacle_list.append([obs_x, obs_y, obs_radius_1, obs_radius_2])\n",
        "\n",
        "    # defining cameras\n",
        "    camera_list_grid = []\n",
        "    for camera in camera_list:\n",
        "        cam_pos = camera[0]\n",
        "        cam_orient = camera[1]\n",
        "        cam_angle = camera[2]\n",
        "        # convert cam_pos to grid\n",
        "        cam_x = (cam_pos[0] - x_min) / (x_max - x_min) * (N - 1)\n",
        "        cam_y = (cam_pos[1] - y_min) / (y_max - y_min) * (N - 1)\n",
        "        # convert to int\n",
        "        cam_x = int(cam_x)\n",
        "        cam_y = int(cam_y)\n",
        "        cam_ind = np.array([cam_x, cam_y])\n",
        "        camera_list_grid.append([cam_ind, cam_orient, cam_angle])\n",
        "    path, U = path_finder(N, x0, xf, camera_list_grid, grid_obstacle_list)\n",
        "    # convert to real values\n",
        "    traj = np.zeros((len(path), 2))\n",
        "    for i in range(len(path)):\n",
        "        traj[i, 0] = path[i][0] / (N - 1) * (x_max - x_min) + x_min\n",
        "        traj[i, 1] = path[i][1] / (N - 1) * (y_max - y_min) + y_min\n",
        "\n",
        "    traj_plt = ax.plot(\n",
        "        traj[:, 0], traj[:, 1],\n",
        "        linewidth=0.2,\n",
        "        color=(.1, .1, .1),\n",
        "        alpha=1.,\n",
        "        zorder=2\n",
        "    )[0]\n",
        "\n",
        "    # If you want to add the field\n",
        "    # field_plt = ax.quiver(X, Y, V[:, :, 0], V[:, :, 1])\n",
        "\n",
        "    plt.subplots_adjust(\n",
        "        left=0, bottom=0, right=1, top=1, wspace=0, hspace=0\n",
        "    )\n",
        "    plt.title(\"Clean path visualization\")\n",
        "    plt.show(block=False)\n",
        "    return 3"
      ]
    },
    {
      "cell_type": "code",
      "execution_count": 7,
      "metadata": {
        "colab": {
          "base_uri": "https://localhost:8080/",
          "height": 773
        },
        "id": "JqovIRaC-5Gl",
        "outputId": "6e784816-e52f-40ff-cd27-1780d4f83ef3"
      },
      "outputs": [
        {
          "name": "stdout",
          "output_type": "stream",
          "text": [
            "---------------------\n",
            "Computing U...\n",
            "Starting...\n",
            "Initialization done.\n"
          ]
        },
        {
          "name": "stderr",
          "output_type": "stream",
          "text": [
            "100%|██████████| 100/100 [00:04<00:00, 20.23it/s]"
          ]
        },
        {
          "name": "stdout",
          "output_type": "stream",
          "text": [
            "U computed.\n",
            "---------------------\n",
            "Path computed.\n"
          ]
        },
        {
          "name": "stderr",
          "output_type": "stream",
          "text": [
            "\n"
          ]
        },
        {
          "data": {
            "image/png": "[encoded data removed]",
            "text/plain": [
              "<Figure size 180x180 with 1 Axes>"
            ]
          },
          "metadata": {},
          "output_type": "display_data"
        },
        {
          "name": "stdout",
          "output_type": "stream",
          "text": [
            "3\n"
          ]
        }
      ],
      "source": [
        "  N = 10\n",
        "  visualize = True\n",
        "  saveU = True\n",
        "  \n",
        "  x0 = np.array([0, 0])\n",
        "  xf = np.array([N-1, 0])\n",
        "  # convert to real between -2 and 2\n",
        "  pos_start = x0 / (N - 1) * 4 - 2\n",
        "  pos_end = xf / (N - 1) * 4 - 2\n",
        "\n",
        "  obstacle_list = [[2, 7, 6, 1], [5, 1, 1, 7], [8, 2, 2, 2]]\n",
        "  # convert to real between -2 and 2\n",
        "  obstacle_list = [[obs[0] / (N - 1) * 4 - 2, obs[1] / (N - 1) * 4 - 2, obs[2] / (N - 1) * 4, obs[3] / (N - 1) * 4] for obs in obstacle_list]\n",
        "  camera_list = [[np.array([4, 6]), -3*.8 + .3, .5], [np.array([4, 6]), -3.14, .5], [np.array([6, 6]), -2*.8, .5]]\n",
        "  # convert to real between -2 and 2\n",
        "  camera_list = [[np.array([cam[0][0] / (N - 1) * 4 - 2, cam[0][1] / (N - 1) * 4 - 2]), cam[1], cam[2]] for cam in camera_list]\n",
        "  a = visualization(N, camera_list, obstacle_list, pos_start, pos_end)\n",
        "  print(a)"
      ]
    }
  ],
  "metadata": {
    "colab": {
      "provenance": []
    },
    "kernelspec": {
      "display_name": "Python 3",
      "language": "python",
      "name": "python3"
    },
    "language_info": {
      "codemirror_mode": {
        "name": "ipython",
        "version": 3
      },
      "file_extension": ".py",
      "mimetype": "text/x-python",
      "name": "python",
      "nbconvert_exporter": "python",
      "pygments_lexer": "ipython3",
      "version": "3.8.10"
    },
    "vscode": {
      "interpreter": {
        "hash": "916dbcbb3f70747c44a77c7bcd40155683ae19c65e1c03b4aa3499c5328201f1"
      }
    }
  },
  "nbformat": 4,
  "nbformat_minor": 0
}
